{
 "cells": [
  {
   "cell_type": "markdown",
   "id": "634f0a26-00a5-41bc-8258-d0d0af7a15d4",
   "metadata": {},
   "source": [
    "## kaggle 데이터 연습"
   ]
  },
  {
   "cell_type": "code",
   "execution_count": 1,
   "id": "05e35f46-1eab-4e38-9db8-cdfa036bd3fa",
   "metadata": {},
   "outputs": [
    {
     "data": {
      "text/html": [
       "<div>\n",
       "<style scoped>\n",
       "    .dataframe tbody tr th:only-of-type {\n",
       "        vertical-align: middle;\n",
       "    }\n",
       "\n",
       "    .dataframe tbody tr th {\n",
       "        vertical-align: top;\n",
       "    }\n",
       "\n",
       "    .dataframe thead th {\n",
       "        text-align: right;\n",
       "    }\n",
       "</style>\n",
       "<table border=\"1\" class=\"dataframe\">\n",
       "  <thead>\n",
       "    <tr style=\"text-align: right;\">\n",
       "      <th></th>\n",
       "      <th>id</th>\n",
       "      <th>Gender</th>\n",
       "      <th>Age</th>\n",
       "      <th>Driving_License</th>\n",
       "      <th>Region_Code</th>\n",
       "      <th>Previously_Insured</th>\n",
       "      <th>Vehicle_Age</th>\n",
       "      <th>Vehicle_Damage</th>\n",
       "      <th>Annual_Premium</th>\n",
       "      <th>Policy_Sales_Channel</th>\n",
       "      <th>Vintage</th>\n",
       "      <th>Response</th>\n",
       "    </tr>\n",
       "  </thead>\n",
       "  <tbody>\n",
       "    <tr>\n",
       "      <th>0</th>\n",
       "      <td>0</td>\n",
       "      <td>Male</td>\n",
       "      <td>21</td>\n",
       "      <td>1</td>\n",
       "      <td>35.0</td>\n",
       "      <td>0</td>\n",
       "      <td>1-2 Year</td>\n",
       "      <td>Yes</td>\n",
       "      <td>65101.0</td>\n",
       "      <td>124.0</td>\n",
       "      <td>187</td>\n",
       "      <td>0</td>\n",
       "    </tr>\n",
       "    <tr>\n",
       "      <th>1</th>\n",
       "      <td>1</td>\n",
       "      <td>Male</td>\n",
       "      <td>43</td>\n",
       "      <td>1</td>\n",
       "      <td>28.0</td>\n",
       "      <td>0</td>\n",
       "      <td>&gt; 2 Years</td>\n",
       "      <td>Yes</td>\n",
       "      <td>58911.0</td>\n",
       "      <td>26.0</td>\n",
       "      <td>288</td>\n",
       "      <td>1</td>\n",
       "    </tr>\n",
       "    <tr>\n",
       "      <th>2</th>\n",
       "      <td>2</td>\n",
       "      <td>Female</td>\n",
       "      <td>25</td>\n",
       "      <td>1</td>\n",
       "      <td>14.0</td>\n",
       "      <td>1</td>\n",
       "      <td>&lt; 1 Year</td>\n",
       "      <td>No</td>\n",
       "      <td>38043.0</td>\n",
       "      <td>152.0</td>\n",
       "      <td>254</td>\n",
       "      <td>0</td>\n",
       "    </tr>\n",
       "    <tr>\n",
       "      <th>3</th>\n",
       "      <td>3</td>\n",
       "      <td>Female</td>\n",
       "      <td>35</td>\n",
       "      <td>1</td>\n",
       "      <td>1.0</td>\n",
       "      <td>0</td>\n",
       "      <td>1-2 Year</td>\n",
       "      <td>Yes</td>\n",
       "      <td>2630.0</td>\n",
       "      <td>156.0</td>\n",
       "      <td>76</td>\n",
       "      <td>0</td>\n",
       "    </tr>\n",
       "    <tr>\n",
       "      <th>4</th>\n",
       "      <td>4</td>\n",
       "      <td>Female</td>\n",
       "      <td>36</td>\n",
       "      <td>1</td>\n",
       "      <td>15.0</td>\n",
       "      <td>1</td>\n",
       "      <td>1-2 Year</td>\n",
       "      <td>No</td>\n",
       "      <td>31951.0</td>\n",
       "      <td>152.0</td>\n",
       "      <td>294</td>\n",
       "      <td>0</td>\n",
       "    </tr>\n",
       "  </tbody>\n",
       "</table>\n",
       "</div>"
      ],
      "text/plain": [
       "   id  Gender  Age  Driving_License  Region_Code  Previously_Insured  \\\n",
       "0   0    Male   21                1         35.0                   0   \n",
       "1   1    Male   43                1         28.0                   0   \n",
       "2   2  Female   25                1         14.0                   1   \n",
       "3   3  Female   35                1          1.0                   0   \n",
       "4   4  Female   36                1         15.0                   1   \n",
       "\n",
       "  Vehicle_Age Vehicle_Damage  Annual_Premium  Policy_Sales_Channel  Vintage  \\\n",
       "0    1-2 Year            Yes         65101.0                 124.0      187   \n",
       "1   > 2 Years            Yes         58911.0                  26.0      288   \n",
       "2    < 1 Year             No         38043.0                 152.0      254   \n",
       "3    1-2 Year            Yes          2630.0                 156.0       76   \n",
       "4    1-2 Year             No         31951.0                 152.0      294   \n",
       "\n",
       "   Response  \n",
       "0         0  \n",
       "1         1  \n",
       "2         0  \n",
       "3         0  \n",
       "4         0  "
      ]
     },
     "execution_count": 1,
     "metadata": {},
     "output_type": "execute_result"
    }
   ],
   "source": [
    "import pandas as pd \n",
    "\n",
    "train = pd.read_csv(\"kaggle/playground-series-s4e7/train.csv\")\n",
    "train.head()"
   ]
  },
  {
   "cell_type": "code",
   "execution_count": 2,
   "id": "c2dd7d72-7802-4005-8b55-fbb9d9ce241d",
   "metadata": {},
   "outputs": [
    {
     "data": {
      "text/plain": [
       "(11504798, 12)"
      ]
     },
     "execution_count": 2,
     "metadata": {},
     "output_type": "execute_result"
    }
   ],
   "source": [
    "train.shape"
   ]
  },
  {
   "cell_type": "markdown",
   "id": "56202f3a-b1f3-48cb-8b36-1235dcc42c3b",
   "metadata": {},
   "source": [
    "## 문제 1. \n",
    "- 나이 그룹 분류 : 'Age_Group'이라는 새로운 열이 추가하도록 한다. Age를 'Young', 'Middle-Aged', 'Senior'으로 분류합니다.\n",
    "- 분류 기준\n",
    "  + 30세 이하는 Young\n",
    "  + 50세 이하는 Middle-Aged\n",
    "  + 그 외는 Senior로 분류"
   ]
  },
  {
   "cell_type": "code",
   "execution_count": 7,
   "id": "707d1af4-29d0-4c69-861a-436af243a946",
   "metadata": {},
   "outputs": [
    {
     "data": {
      "text/html": [
       "<div>\n",
       "<style scoped>\n",
       "    .dataframe tbody tr th:only-of-type {\n",
       "        vertical-align: middle;\n",
       "    }\n",
       "\n",
       "    .dataframe tbody tr th {\n",
       "        vertical-align: top;\n",
       "    }\n",
       "\n",
       "    .dataframe thead th {\n",
       "        text-align: right;\n",
       "    }\n",
       "</style>\n",
       "<table border=\"1\" class=\"dataframe\">\n",
       "  <thead>\n",
       "    <tr style=\"text-align: right;\">\n",
       "      <th></th>\n",
       "      <th>id</th>\n",
       "      <th>Gender</th>\n",
       "      <th>Age</th>\n",
       "      <th>Driving_License</th>\n",
       "      <th>Region_Code</th>\n",
       "      <th>Previously_Insured</th>\n",
       "      <th>Vehicle_Age</th>\n",
       "      <th>Vehicle_Damage</th>\n",
       "      <th>Annual_Premium</th>\n",
       "      <th>Policy_Sales_Channel</th>\n",
       "      <th>Vintage</th>\n",
       "      <th>Response</th>\n",
       "      <th>Age_Group</th>\n",
       "    </tr>\n",
       "  </thead>\n",
       "  <tbody>\n",
       "    <tr>\n",
       "      <th>0</th>\n",
       "      <td>0</td>\n",
       "      <td>Male</td>\n",
       "      <td>21</td>\n",
       "      <td>1</td>\n",
       "      <td>35.0</td>\n",
       "      <td>0</td>\n",
       "      <td>1-2 Year</td>\n",
       "      <td>Yes</td>\n",
       "      <td>65101.0</td>\n",
       "      <td>124.0</td>\n",
       "      <td>187</td>\n",
       "      <td>0</td>\n",
       "      <td>Young</td>\n",
       "    </tr>\n",
       "    <tr>\n",
       "      <th>1</th>\n",
       "      <td>1</td>\n",
       "      <td>Male</td>\n",
       "      <td>43</td>\n",
       "      <td>1</td>\n",
       "      <td>28.0</td>\n",
       "      <td>0</td>\n",
       "      <td>&gt; 2 Years</td>\n",
       "      <td>Yes</td>\n",
       "      <td>58911.0</td>\n",
       "      <td>26.0</td>\n",
       "      <td>288</td>\n",
       "      <td>1</td>\n",
       "      <td>Middle-Aged</td>\n",
       "    </tr>\n",
       "    <tr>\n",
       "      <th>2</th>\n",
       "      <td>2</td>\n",
       "      <td>Female</td>\n",
       "      <td>25</td>\n",
       "      <td>1</td>\n",
       "      <td>14.0</td>\n",
       "      <td>1</td>\n",
       "      <td>&lt; 1 Year</td>\n",
       "      <td>No</td>\n",
       "      <td>38043.0</td>\n",
       "      <td>152.0</td>\n",
       "      <td>254</td>\n",
       "      <td>0</td>\n",
       "      <td>Young</td>\n",
       "    </tr>\n",
       "    <tr>\n",
       "      <th>3</th>\n",
       "      <td>3</td>\n",
       "      <td>Female</td>\n",
       "      <td>35</td>\n",
       "      <td>1</td>\n",
       "      <td>1.0</td>\n",
       "      <td>0</td>\n",
       "      <td>1-2 Year</td>\n",
       "      <td>Yes</td>\n",
       "      <td>2630.0</td>\n",
       "      <td>156.0</td>\n",
       "      <td>76</td>\n",
       "      <td>0</td>\n",
       "      <td>Middle-Aged</td>\n",
       "    </tr>\n",
       "    <tr>\n",
       "      <th>4</th>\n",
       "      <td>4</td>\n",
       "      <td>Female</td>\n",
       "      <td>36</td>\n",
       "      <td>1</td>\n",
       "      <td>15.0</td>\n",
       "      <td>1</td>\n",
       "      <td>1-2 Year</td>\n",
       "      <td>No</td>\n",
       "      <td>31951.0</td>\n",
       "      <td>152.0</td>\n",
       "      <td>294</td>\n",
       "      <td>0</td>\n",
       "      <td>Middle-Aged</td>\n",
       "    </tr>\n",
       "  </tbody>\n",
       "</table>\n",
       "</div>"
      ],
      "text/plain": [
       "   id  Gender  Age  Driving_License  Region_Code  Previously_Insured  \\\n",
       "0   0    Male   21                1         35.0                   0   \n",
       "1   1    Male   43                1         28.0                   0   \n",
       "2   2  Female   25                1         14.0                   1   \n",
       "3   3  Female   35                1          1.0                   0   \n",
       "4   4  Female   36                1         15.0                   1   \n",
       "\n",
       "  Vehicle_Age Vehicle_Damage  Annual_Premium  Policy_Sales_Channel  Vintage  \\\n",
       "0    1-2 Year            Yes         65101.0                 124.0      187   \n",
       "1   > 2 Years            Yes         58911.0                  26.0      288   \n",
       "2    < 1 Year             No         38043.0                 152.0      254   \n",
       "3    1-2 Year            Yes          2630.0                 156.0       76   \n",
       "4    1-2 Year             No         31951.0                 152.0      294   \n",
       "\n",
       "   Response    Age_Group  \n",
       "0         0        Young  \n",
       "1         1  Middle-Aged  \n",
       "2         0        Young  \n",
       "3         0  Middle-Aged  \n",
       "4         0  Middle-Aged  "
      ]
     },
     "execution_count": 7,
     "metadata": {},
     "output_type": "execute_result"
    }
   ],
   "source": [
    "# code\n",
    "train['Age_Group'] = train['Age'].apply(lambda x: 'Young' if x<= 30 else ('Middle-Aged' if x<= 50 else 'Senior'))\n",
    "train.head()"
   ]
  },
  {
   "cell_type": "markdown",
   "id": "a927013b-5dcd-4c8f-8f82-6a807e5a4031",
   "metadata": {},
   "source": [
    "## 문제 2. \n",
    "- 성별에 따른 연간 보험료 평균을 구하세요\n",
    "    + 컬럼 : Annual_Premium, Gender"
   ]
  },
  {
   "cell_type": "code",
   "execution_count": 8,
   "id": "ba3da642-3d15-49d0-bdd6-b24ca5a36b7f",
   "metadata": {},
   "outputs": [
    {
     "data": {
      "text/plain": [
       "Gender\n",
       "Female    30270.952164\n",
       "Male      30622.698524\n",
       "Name: Annual_Premium, dtype: float64"
      ]
     },
     "execution_count": 8,
     "metadata": {},
     "output_type": "execute_result"
    }
   ],
   "source": [
    "# code\n",
    "train.groupby('Gender')['Annual_Premium'].mean()"
   ]
  },
  {
   "cell_type": "markdown",
   "id": "34b7ecd6-06ed-4223-9f4c-0dccf39dba1b",
   "metadata": {},
   "source": [
    "## 문제 3. \n",
    "- Gender는 남성이면서, 이전에 보험에 가입하지 않았으며, 차량 연식 < 1년 이하인 값을 구하세요.\n",
    "- 컬럼 정보 : Gender, Previously_Insured, Vehicle_Age"
   ]
  },
  {
   "cell_type": "code",
   "execution_count": 10,
   "id": "2b49c071-254e-4030-965a-1bf054d3330c",
   "metadata": {},
   "outputs": [
    {
     "data": {
      "text/plain": [
       "(764141, 13)"
      ]
     },
     "execution_count": 10,
     "metadata": {},
     "output_type": "execute_result"
    }
   ],
   "source": [
    "# code\n",
    "#train.loc[(조건식1) & (조건식2)  & (조건식3), : ]\n",
    "train.loc[(train['Gender'] == 'Male') & (train['Previously_Insured'] == 0 )  & ( train['Vehicle_Age'] == '< 1 Year'), :].reset_index(drop=True).shape"
   ]
  },
  {
   "cell_type": "markdown",
   "id": "aafdce7a-79c9-45d6-abf7-48fe6e519a4f",
   "metadata": {},
   "source": [
    "## 문제 4. \n",
    "- Policy_Sales_Channel이 7.0 또는 152.0인 데이터를 필터링 하세요"
   ]
  },
  {
   "cell_type": "code",
   "execution_count": 9,
   "id": "67d3c5ab-94a1-4073-9a47-a9c914f16f65",
   "metadata": {},
   "outputs": [
    {
     "data": {
      "text/plain": [
       "(4210510, 13)"
      ]
     },
     "execution_count": 9,
     "metadata": {},
     "output_type": "execute_result"
    }
   ],
   "source": [
    "# code\n",
    "train.loc[train['Policy_Sales_Channel'].isin([7.0, 152.0])].reset_index(drop = True).shape"
   ]
  },
  {
   "cell_type": "markdown",
   "id": "c954b21b-94a7-4192-a3ed-bd272d9b8eda",
   "metadata": {},
   "source": [
    "### 층화추출"
   ]
  },
  {
   "cell_type": "code",
   "execution_count": 11,
   "id": "5ab1b59d-f246-494c-8fdf-429477019427",
   "metadata": {},
   "outputs": [
    {
     "name": "stderr",
     "output_type": "stream",
     "text": [
      "C:\\Users\\user\\AppData\\Local\\Temp\\ipykernel_23368\\1063128695.py:1: DeprecationWarning: DataFrameGroupBy.apply operated on the grouping columns. This behavior is deprecated, and in a future version of pandas the grouping columns will be excluded from the operation. Either pass `include_groups=False` to exclude the groupings or explicitly select the grouping columns after groupby to silence this warning.\n",
      "  stratified_sample = train.groupby('Response').apply(\n"
     ]
    }
   ],
   "source": [
    "stratified_sample = train.groupby('Response').apply(\n",
    "    lambda x: x.sample(frac=0.001)\n",
    ")\n",
    "\n",
    "stratified_sample.to_csv(\"kaggle_test.csv\", index=False)"
   ]
  },
  {
   "cell_type": "markdown",
   "id": "d7298bcd-8d69-4510-a26f-681a8536dd15",
   "metadata": {},
   "source": [
    "## Matplotlib & Seaborn"
   ]
  },
  {
   "cell_type": "code",
   "execution_count": 37,
   "id": "0b61fe8f-98c8-479c-b229-c67cf8234e50",
   "metadata": {},
   "outputs": [
    {
     "name": "stdout",
     "output_type": "stream",
     "text": [
      "<class 'matplotlib.axes._axes.Axes'>\n"
     ]
    },
    {
     "data": {
      "image/png": "[encoded data removed]",
      "text/plain": [
       "<Figure size 1000x600 with 1 Axes>"
      ]
     },
     "metadata": {},
     "output_type": "display_data"
    }
   ],
   "source": [
    "import matplotlib.pyplot as plt\n",
    "\n",
    "dates = [\n",
    "    '2021-01-01', '2021-01-02', '2021-01-03', '2021-01-04', '2021-01-05',\n",
    "    '2021-01-06', '2021-01-07', '2021-01-08', '2021-01-09', '2021-01-10'\n",
    "]\n",
    "min_temperature = [20.7, 17.9, 18.8, 14.6, 15.8, 15.8, 15.8, 17.4, 21.8, 20.0]\n",
    "max_temperature = [34.7, 28.9, 31.8, 25.6, 28.8, 21.8, 22.8, 28.4, 30.8, 32.0]\n",
    "\n",
    "# 객체지향 형태로 문법을 시작!\n",
    "\n",
    "fig, ax = plt.subplots(figsize = (10, 6))\n",
    "ax.plot(dates, min_temperature, label = \"Min Temp\")\n",
    "ax.plot(dates, max_temperature, label = \"Max Temp\")\n",
    "print(type(ax))\n",
    "\n",
    "ax.legend(loc=9)\n",
    "#ax.set_xlabel(\"Dates\")\n",
    "#ax.set_ylabel(\"Temp\")\n",
    "#ax.set_title(\"title\")\n",
    "\n",
    "plt.show()"
   ]
  },
  {
   "cell_type": "code",
   "execution_count": 38,
   "id": "e85f2fc6-200d-4619-a90c-b41ed78b996f",
   "metadata": {},
   "outputs": [
    {
     "name": "stdout",
     "output_type": "stream",
     "text": [
      "Collecting yfinance\n",
      "  Downloading yfinance-0.2.40-py2.py3-none-any.whl.metadata (11 kB)\n",
      "Requirement already satisfied: pandas>=1.3.0 in c:\\users\\user\\desktop\\sourcecode\\venv\\lib\\site-packages (from yfinance) (2.2.2)\n",
      "Requirement already satisfied: numpy>=1.16.5 in c:\\users\\user\\desktop\\sourcecode\\venv\\lib\\site-packages (from yfinance) (2.0.0)\n",
      "Requirement already satisfied: requests>=2.31 in c:\\users\\user\\desktop\\sourcecode\\venv\\lib\\site-packages (from yfinance) (2.32.3)\n",
      "Collecting multitasking>=0.0.7 (from yfinance)\n",
      "  Downloading multitasking-0.0.11-py3-none-any.whl.metadata (5.5 kB)\n",
      "Collecting lxml>=4.9.1 (from yfinance)\n",
      "  Downloading lxml-5.2.2-cp311-cp311-win_amd64.whl.metadata (3.5 kB)\n",
      "Requirement already satisfied: platformdirs>=2.0.0 in c:\\users\\user\\desktop\\sourcecode\\venv\\lib\\site-packages (from yfinance) (4.2.2)\n",
      "Requirement already satisfied: pytz>=2022.5 in c:\\users\\user\\desktop\\sourcecode\\venv\\lib\\site-packages (from yfinance) (2024.1)\n",
      "Collecting frozendict>=2.3.4 (from yfinance)\n",
      "  Downloading frozendict-2.4.4-py311-none-any.whl.metadata (23 kB)\n",
      "Collecting peewee>=3.16.2 (from yfinance)\n",
      "  Downloading peewee-3.17.5.tar.gz (3.0 MB)\n",
      "     ---------------------------------------- 0.0/3.0 MB ? eta -:--:--\n",
      "     ----- ---------------------------------- 0.4/3.0 MB 8.1 MB/s eta 0:00:01\n",
      "     --------- ------------------------------ 0.7/3.0 MB 9.2 MB/s eta 0:00:01\n",
      "     -------------- ------------------------- 1.1/3.0 MB 8.4 MB/s eta 0:00:01\n",
      "     ------------------- -------------------- 1.4/3.0 MB 8.2 MB/s eta 0:00:01\n",
      "     ------------------------- -------------- 1.9/3.0 MB 8.5 MB/s eta 0:00:01\n",
      "     -------------------------------- ------- 2.4/3.0 MB 9.0 MB/s eta 0:00:01\n",
      "     ---------------------------------------- 3.0/3.0 MB 9.4 MB/s eta 0:00:00\n",
      "  Installing build dependencies: started\n",
      "  Installing build dependencies: finished with status 'done'\n",
      "  Getting requirements to build wheel: started\n",
      "  Getting requirements to build wheel: finished with status 'done'\n",
      "  Preparing metadata (pyproject.toml): started\n",
      "  Preparing metadata (pyproject.toml): finished with status 'done'\n",
      "Requirement already satisfied: beautifulsoup4>=4.11.1 in c:\\users\\user\\desktop\\sourcecode\\venv\\lib\\site-packages (from yfinance) (4.12.3)\n",
      "Collecting html5lib>=1.1 (from yfinance)\n",
      "  Downloading html5lib-1.1-py2.py3-none-any.whl.metadata (16 kB)\n",
      "Requirement already satisfied: soupsieve>1.2 in c:\\users\\user\\desktop\\sourcecode\\venv\\lib\\site-packages (from beautifulsoup4>=4.11.1->yfinance) (2.5)\n",
      "Requirement already satisfied: six>=1.9 in c:\\users\\user\\desktop\\sourcecode\\venv\\lib\\site-packages (from html5lib>=1.1->yfinance) (1.16.0)\n",
      "Requirement already satisfied: webencodings in c:\\users\\user\\desktop\\sourcecode\\venv\\lib\\site-packages (from html5lib>=1.1->yfinance) (0.5.1)\n",
      "Requirement already satisfied: python-dateutil>=2.8.2 in c:\\users\\user\\desktop\\sourcecode\\venv\\lib\\site-packages (from pandas>=1.3.0->yfinance) (2.9.0.post0)\n",
      "Requirement already satisfied: tzdata>=2022.7 in c:\\users\\user\\desktop\\sourcecode\\venv\\lib\\site-packages (from pandas>=1.3.0->yfinance) (2024.1)\n",
      "Requirement already satisfied: charset-normalizer<4,>=2 in c:\\users\\user\\desktop\\sourcecode\\venv\\lib\\site-packages (from requests>=2.31->yfinance) (3.3.2)\n",
      "Requirement already satisfied: idna<4,>=2.5 in c:\\users\\user\\desktop\\sourcecode\\venv\\lib\\site-packages (from requests>=2.31->yfinance) (3.7)\n",
      "Requirement already satisfied: urllib3<3,>=1.21.1 in c:\\users\\user\\desktop\\sourcecode\\venv\\lib\\site-packages (from requests>=2.31->yfinance) (2.2.2)\n",
      "Requirement already satisfied: certifi>=2017.4.17 in c:\\users\\user\\desktop\\sourcecode\\venv\\lib\\site-packages (from requests>=2.31->yfinance) (2024.6.2)\n",
      "Downloading yfinance-0.2.40-py2.py3-none-any.whl (73 kB)\n",
      "   ---------------------------------------- 0.0/73.5 kB ? eta -:--:--\n",
      "   ---------------------------------------- 73.5/73.5 kB ? eta 0:00:00\n",
      "Downloading frozendict-2.4.4-py311-none-any.whl (16 kB)\n",
      "Downloading html5lib-1.1-py2.py3-none-any.whl (112 kB)\n",
      "   ---------------------------------------- 0.0/112.2 kB ? eta -:--:--\n",
      "   ---------------------------------------- 112.2/112.2 kB ? eta 0:00:00\n",
      "Downloading lxml-5.2.2-cp311-cp311-win_amd64.whl (3.8 MB)\n",
      "   ---------------------------------------- 0.0/3.8 MB ? eta -:--:--\n",
      "   ------- -------------------------------- 0.7/3.8 MB 23.1 MB/s eta 0:00:01\n",
      "   ------------------ --------------------- 1.8/3.8 MB 22.6 MB/s eta 0:00:01\n",
      "   ---------------------------- ----------- 2.8/3.8 MB 22.0 MB/s eta 0:00:01\n",
      "   ---------------------------------------- 3.8/3.8 MB 22.1 MB/s eta 0:00:00\n",
      "Downloading multitasking-0.0.11-py3-none-any.whl (8.5 kB)\n",
      "Building wheels for collected packages: peewee\n",
      "  Building wheel for peewee (pyproject.toml): started\n",
      "  Building wheel for peewee (pyproject.toml): finished with status 'done'\n",
      "  Created wheel for peewee: filename=peewee-3.17.5-py3-none-any.whl size=138681 sha256=a400f484e1a6b404b2d597f6380bc12b11916bbfec42182fdc371ad3feeef252\n",
      "  Stored in directory: C:\\Users\\user\\AppData\\Local\\Temp\\pip-ephem-wheel-cache-ls2wmf14\\wheels\\d2\\cb\\9c\\c300d7bf782e07f1658c306743d5e30af7e4834001e4064a96\n",
      "Successfully built peewee\n",
      "Installing collected packages: peewee, multitasking, lxml, html5lib, frozendict, yfinance\n",
      "Successfully installed frozendict-2.4.4 html5lib-1.1 lxml-5.2.2 multitasking-0.0.11 peewee-3.17.5 yfinance-0.2.40\n"
     ]
    },
    {
     "name": "stderr",
     "output_type": "stream",
     "text": [
      "\n",
      "[notice] A new release of pip is available: 24.1 -> 24.1.1\n",
      "[notice] To update, run: python.exe -m pip install --upgrade pip\n"
     ]
    }
   ],
   "source": [
    "!pip install yfinance --upgrade --no-cache-dir"
   ]
  },
  {
   "cell_type": "code",
   "execution_count": 40,
   "id": "b0803641-f832-43ee-9483-a067f21ccbfd",
   "metadata": {},
   "outputs": [
    {
     "name": "stderr",
     "output_type": "stream",
     "text": [
      "[*********************100%%**********************]  1 of 1 completed\n"
     ]
    },
    {
     "data": {
      "text/html": [
       "<div>\n",
       "<style scoped>\n",
       "    .dataframe tbody tr th:only-of-type {\n",
       "        vertical-align: middle;\n",
       "    }\n",
       "\n",
       "    .dataframe tbody tr th {\n",
       "        vertical-align: top;\n",
       "    }\n",
       "\n",
       "    .dataframe thead th {\n",
       "        text-align: right;\n",
       "    }\n",
       "</style>\n",
       "<table border=\"1\" class=\"dataframe\">\n",
       "  <thead>\n",
       "    <tr style=\"text-align: right;\">\n",
       "      <th></th>\n",
       "      <th>Open</th>\n",
       "      <th>High</th>\n",
       "      <th>Low</th>\n",
       "      <th>Close</th>\n",
       "      <th>Adj Close</th>\n",
       "      <th>Volume</th>\n",
       "    </tr>\n",
       "    <tr>\n",
       "      <th>Date</th>\n",
       "      <th></th>\n",
       "      <th></th>\n",
       "      <th></th>\n",
       "      <th></th>\n",
       "      <th></th>\n",
       "      <th></th>\n",
       "    </tr>\n",
       "  </thead>\n",
       "  <tbody>\n",
       "    <tr>\n",
       "      <th>2020-01-02</th>\n",
       "      <td>59.599998</td>\n",
       "      <td>60.119999</td>\n",
       "      <td>59.599998</td>\n",
       "      <td>60.040001</td>\n",
       "      <td>54.879215</td>\n",
       "      <td>8432600</td>\n",
       "    </tr>\n",
       "    <tr>\n",
       "      <th>2020-01-03</th>\n",
       "      <td>58.970001</td>\n",
       "      <td>58.980000</td>\n",
       "      <td>58.040001</td>\n",
       "      <td>58.060001</td>\n",
       "      <td>53.069405</td>\n",
       "      <td>10546400</td>\n",
       "    </tr>\n",
       "    <tr>\n",
       "      <th>2020-01-06</th>\n",
       "      <td>57.599998</td>\n",
       "      <td>57.689999</td>\n",
       "      <td>57.130001</td>\n",
       "      <td>57.389999</td>\n",
       "      <td>52.456997</td>\n",
       "      <td>8897200</td>\n",
       "    </tr>\n",
       "    <tr>\n",
       "      <th>2020-01-07</th>\n",
       "      <td>57.450001</td>\n",
       "      <td>58.599998</td>\n",
       "      <td>56.740002</td>\n",
       "      <td>58.320000</td>\n",
       "      <td>53.307056</td>\n",
       "      <td>7444300</td>\n",
       "    </tr>\n",
       "    <tr>\n",
       "      <th>2020-01-08</th>\n",
       "      <td>58.189999</td>\n",
       "      <td>58.980000</td>\n",
       "      <td>58.110001</td>\n",
       "      <td>58.750000</td>\n",
       "      <td>53.700096</td>\n",
       "      <td>5381500</td>\n",
       "    </tr>\n",
       "  </tbody>\n",
       "</table>\n",
       "</div>"
      ],
      "text/plain": [
       "                 Open       High        Low      Close  Adj Close    Volume\n",
       "Date                                                                       \n",
       "2020-01-02  59.599998  60.119999  59.599998  60.040001  54.879215   8432600\n",
       "2020-01-03  58.970001  58.980000  58.040001  58.060001  53.069405  10546400\n",
       "2020-01-06  57.599998  57.689999  57.130001  57.389999  52.456997   8897200\n",
       "2020-01-07  57.450001  58.599998  56.740002  58.320000  53.307056   7444300\n",
       "2020-01-08  58.189999  58.980000  58.110001  58.750000  53.700096   5381500"
      ]
     },
     "execution_count": 40,
     "metadata": {},
     "output_type": "execute_result"
    }
   ],
   "source": [
    "import yfinance as yf\n",
    "TSM = yf.download(\"TSM\", start=\"2020-01-01\", end=\"2024-07-02\")\n",
    "TSM.head()"
   ]
  },
  {
   "cell_type": "code",
   "execution_count": 62,
   "id": "f68f9096-166b-4b2c-a77d-ee8a480405d4",
   "metadata": {},
   "outputs": [
    {
     "name": "stderr",
     "output_type": "stream",
     "text": [
      "C:\\Users\\user\\AppData\\Local\\Temp\\ipykernel_23368\\4119233810.py:7: UserWarning: set_ticklabels() should only be used with a fixed number of ticks, i.e. after set_ticks() or using a FixedLocator.\n",
      "  ax.set_xticklabels(TSM['Open'].index,rotation = 70)\n"
     ]
    },
    {
     "data": {
      "image/png": "[encoded data removed]",
      "text/plain": [
       "<Figure size 640x480 with 1 Axes>"
      ]
     },
     "metadata": {},
     "output_type": "display_data"
    }
   ],
   "source": [
    "fig, ax = plt.subplots()\n",
    "ax.plot(TSM['Open'])\n",
    "ax.set_title(\"TSM\")\n",
    "ax.set_xlabel(\"date\")\n",
    "ax.set_ylabel(\"Price\")\n",
    "ax.legend(labels = [\"Price\"], loc = 'best')\n",
    "ax.set_xticklabels(TSM['Open'].index,rotation = 70)\n",
    "plt.show()"
   ]
  },
  {
   "cell_type": "code",
   "execution_count": 65,
   "id": "e664084b-298f-43b6-bfae-01293e8532f5",
   "metadata": {},
   "outputs": [
    {
     "data": {
      "image/png": "[encoded data removed]",
      "text/plain": [
       "<Figure size 1000x600 with 1 Axes>"
      ]
     },
     "metadata": {},
     "output_type": "display_data"
    }
   ],
   "source": [
    "import matplotlib.pyplot as plt\n",
    "import seaborn as sns\n",
    "\n",
    "iris = sns.load_dataset('iris')\n",
    "\n",
    "data = [iris[iris['species']==\"setosa\"]['petal_width'], \n",
    "        iris[iris['species']==\"versicolor\"]['petal_width'],\n",
    "        iris[iris['species']==\"virginica\"]['petal_width']]\n",
    "\n",
    "fig, ax = plt.subplots(figsize=(10, 6))\n",
    "ax.boxplot(data, tick_labels=['setosa', 'versicolor', 'virginica'])\n",
    "\n",
    "plt.show()"
   ]
  },
  {
   "cell_type": "code",
   "execution_count": 68,
   "id": "91433c77-c306-44a2-bfc7-670fb7243951",
   "metadata": {},
   "outputs": [
    {
     "name": "stdout",
     "output_type": "stream",
     "text": [
      "<class 'matplotlib.axes._axes.Axes'>\n"
     ]
    },
    {
     "data": {
      "image/png": "[encoded data removed]",
      "text/plain": [
       "<Figure size 1000x300 with 1 Axes>"
      ]
     },
     "metadata": {},
     "output_type": "display_data"
    }
   ],
   "source": [
    "import matplotlib.pyplot as plt\n",
    "import seaborn as sns\n",
    "\n",
    "iris = sns.load_dataset('iris')\n",
    "\n",
    "fig, ax = plt.subplots(figsize=(10,3))\n",
    "sns.boxplot(data = iris, x = 'species', y= 'petal_width', ax = ax)\n",
    "ax.set_title(\"Titles\")\n",
    "ax.set_xlabel(\"SPECIES\")\n",
    "print(type(ax))\n",
    "plt.show()"
   ]
  },
  {
   "cell_type": "markdown",
   "id": "ac1182d1-55f7-4f66-afda-e3c5d4b31c31",
   "metadata": {},
   "source": [
    "##  막대 그래프 그려보기"
   ]
  },
  {
   "cell_type": "code",
   "execution_count": 69,
   "id": "b5d709ed-da8a-432b-8a45-3fdd7ef81652",
   "metadata": {},
   "outputs": [],
   "source": [
    "import matplotlib.pyplot as plt\n",
    "from matplotlib.ticker import (MultipleLocator, AutoMinorLocator, FuncFormatter)\n",
    "import seaborn as sns\n",
    "import numpy as np"
   ]
  },
  {
   "cell_type": "markdown",
   "id": "a48238bf-a101-4011-8151-ef3fa70e3c18",
   "metadata": {},
   "source": [
    "## 데이터 불러보기"
   ]
  },
  {
   "cell_type": "code",
   "execution_count": 73,
   "id": "ea6898c0-edba-40a1-ad3f-34e469ccae8e",
   "metadata": {},
   "outputs": [
    {
     "data": {
      "text/html": [
       "<div>\n",
       "<style scoped>\n",
       "    .dataframe tbody tr th:only-of-type {\n",
       "        vertical-align: middle;\n",
       "    }\n",
       "\n",
       "    .dataframe tbody tr th {\n",
       "        vertical-align: top;\n",
       "    }\n",
       "\n",
       "    .dataframe thead th {\n",
       "        text-align: right;\n",
       "    }\n",
       "</style>\n",
       "<table border=\"1\" class=\"dataframe\">\n",
       "  <thead>\n",
       "    <tr style=\"text-align: right;\">\n",
       "      <th></th>\n",
       "      <th>total_bill</th>\n",
       "      <th>tip</th>\n",
       "      <th>sex</th>\n",
       "      <th>smoker</th>\n",
       "      <th>day</th>\n",
       "      <th>time</th>\n",
       "      <th>size</th>\n",
       "    </tr>\n",
       "  </thead>\n",
       "  <tbody>\n",
       "    <tr>\n",
       "      <th>0</th>\n",
       "      <td>16.99</td>\n",
       "      <td>1.01</td>\n",
       "      <td>Female</td>\n",
       "      <td>No</td>\n",
       "      <td>Sun</td>\n",
       "      <td>Dinner</td>\n",
       "      <td>2</td>\n",
       "    </tr>\n",
       "    <tr>\n",
       "      <th>1</th>\n",
       "      <td>10.34</td>\n",
       "      <td>1.66</td>\n",
       "      <td>Male</td>\n",
       "      <td>No</td>\n",
       "      <td>Sun</td>\n",
       "      <td>Dinner</td>\n",
       "      <td>3</td>\n",
       "    </tr>\n",
       "    <tr>\n",
       "      <th>2</th>\n",
       "      <td>21.01</td>\n",
       "      <td>3.50</td>\n",
       "      <td>Male</td>\n",
       "      <td>No</td>\n",
       "      <td>Sun</td>\n",
       "      <td>Dinner</td>\n",
       "      <td>3</td>\n",
       "    </tr>\n",
       "    <tr>\n",
       "      <th>3</th>\n",
       "      <td>23.68</td>\n",
       "      <td>3.31</td>\n",
       "      <td>Male</td>\n",
       "      <td>No</td>\n",
       "      <td>Sun</td>\n",
       "      <td>Dinner</td>\n",
       "      <td>2</td>\n",
       "    </tr>\n",
       "    <tr>\n",
       "      <th>4</th>\n",
       "      <td>24.59</td>\n",
       "      <td>3.61</td>\n",
       "      <td>Female</td>\n",
       "      <td>No</td>\n",
       "      <td>Sun</td>\n",
       "      <td>Dinner</td>\n",
       "      <td>4</td>\n",
       "    </tr>\n",
       "    <tr>\n",
       "      <th>...</th>\n",
       "      <td>...</td>\n",
       "      <td>...</td>\n",
       "      <td>...</td>\n",
       "      <td>...</td>\n",
       "      <td>...</td>\n",
       "      <td>...</td>\n",
       "      <td>...</td>\n",
       "    </tr>\n",
       "    <tr>\n",
       "      <th>239</th>\n",
       "      <td>29.03</td>\n",
       "      <td>5.92</td>\n",
       "      <td>Male</td>\n",
       "      <td>No</td>\n",
       "      <td>Sat</td>\n",
       "      <td>Dinner</td>\n",
       "      <td>3</td>\n",
       "    </tr>\n",
       "    <tr>\n",
       "      <th>240</th>\n",
       "      <td>27.18</td>\n",
       "      <td>2.00</td>\n",
       "      <td>Female</td>\n",
       "      <td>Yes</td>\n",
       "      <td>Sat</td>\n",
       "      <td>Dinner</td>\n",
       "      <td>2</td>\n",
       "    </tr>\n",
       "    <tr>\n",
       "      <th>241</th>\n",
       "      <td>22.67</td>\n",
       "      <td>2.00</td>\n",
       "      <td>Male</td>\n",
       "      <td>Yes</td>\n",
       "      <td>Sat</td>\n",
       "      <td>Dinner</td>\n",
       "      <td>2</td>\n",
       "    </tr>\n",
       "    <tr>\n",
       "      <th>242</th>\n",
       "      <td>17.82</td>\n",
       "      <td>1.75</td>\n",
       "      <td>Male</td>\n",
       "      <td>No</td>\n",
       "      <td>Sat</td>\n",
       "      <td>Dinner</td>\n",
       "      <td>2</td>\n",
       "    </tr>\n",
       "    <tr>\n",
       "      <th>243</th>\n",
       "      <td>18.78</td>\n",
       "      <td>3.00</td>\n",
       "      <td>Female</td>\n",
       "      <td>No</td>\n",
       "      <td>Thur</td>\n",
       "      <td>Dinner</td>\n",
       "      <td>2</td>\n",
       "    </tr>\n",
       "  </tbody>\n",
       "</table>\n",
       "<p>244 rows × 7 columns</p>\n",
       "</div>"
      ],
      "text/plain": [
       "     total_bill   tip     sex smoker   day    time  size\n",
       "0         16.99  1.01  Female     No   Sun  Dinner     2\n",
       "1         10.34  1.66    Male     No   Sun  Dinner     3\n",
       "2         21.01  3.50    Male     No   Sun  Dinner     3\n",
       "3         23.68  3.31    Male     No   Sun  Dinner     2\n",
       "4         24.59  3.61  Female     No   Sun  Dinner     4\n",
       "..          ...   ...     ...    ...   ...     ...   ...\n",
       "239       29.03  5.92    Male     No   Sat  Dinner     3\n",
       "240       27.18  2.00  Female    Yes   Sat  Dinner     2\n",
       "241       22.67  2.00    Male    Yes   Sat  Dinner     2\n",
       "242       17.82  1.75    Male     No   Sat  Dinner     2\n",
       "243       18.78  3.00  Female     No  Thur  Dinner     2\n",
       "\n",
       "[244 rows x 7 columns]"
      ]
     },
     "execution_count": 73,
     "metadata": {},
     "output_type": "execute_result"
    }
   ],
   "source": [
    "import seaborn as sns \n",
    "\n",
    "tips = sns.load_dataset(\"tips\")\n",
    "tips"
   ]
  },
  {
   "cell_type": "markdown",
   "id": "b279dc81-4820-4080-a311-d8b1b9de0739",
   "metadata": {},
   "source": [
    "##  기초 데이터"
   ]
  },
  {
   "cell_type": "code",
   "execution_count": 92,
   "id": "ed8fc05c-bf01-46ce-bcbf-ad633570f5a1",
   "metadata": {},
   "outputs": [
    {
     "data": {
      "text/plain": [
       "('Sun', 21.41)"
      ]
     },
     "execution_count": 92,
     "metadata": {},
     "output_type": "execute_result"
    }
   ],
   "source": [
    "group_mean = tips.groupby(['day'], observed = False)['total_bill'].agg('mean')\n",
    "h_day = group_mean.sort_values(ascending=False).index[0]\n",
    "#h_day = group_mean.idxmax()\n",
    "h_mean = float(np.round(group_mean.sort_values(ascending=False).values[0], 2))\n",
    "h_day, h_mean"
   ]
  },
  {
   "cell_type": "markdown",
   "id": "d052f5fd-5c3d-4de6-b63d-8051f3dbb1e6",
   "metadata": {},
   "source": [
    "## 축 옵션 UDF 함수"
   ]
  },
  {
   "cell_type": "code",
   "execution_count": 115,
   "id": "55994372-6b69-45c3-a9b2-b01136a2ed8a",
   "metadata": {},
   "outputs": [],
   "source": [
    "def major_formatter(x, pos):\n",
    "    return \"%.2f$\" % x\n",
    "formatter = FuncFormatter(major_formatter)"
   ]
  },
  {
   "cell_type": "markdown",
   "id": "7a245f7c-7572-462a-a388-4d399be43ba1",
   "metadata": {},
   "source": [
    "## 시각화 객체지향선언"
   ]
  },
  {
   "cell_type": "code",
   "execution_count": 135,
   "id": "b95e3a87-142f-4bbc-a0f9-240ce2553272",
   "metadata": {},
   "outputs": [
    {
     "name": "stdout",
     "output_type": "stream",
     "text": [
      "Text(0, 0, 'Thur')\n",
      "Text(1, 0, 'Fri')\n",
      "Text(2, 0, 'Sat')\n",
      "Text(3, 0, 'Sun')\n"
     ]
    },
    {
     "name": "stderr",
     "output_type": "stream",
     "text": [
      "C:\\Users\\user\\AppData\\Local\\Temp\\ipykernel_23368\\912950110.py:46: UserWarning: set_ticklabels() should only be used with a fixed number of ticks, i.e. after set_ticks() or using a FixedLocator.\n",
      "  ax0.set_xticklabels(['Thursday', 'Friday', 'Saturday', 'Sunday'], size=12) # 밑에 축에 글씨 변경\n",
      "C:\\Users\\user\\AppData\\Local\\Temp\\ipykernel_23368\\912950110.py:56: UserWarning: set_ticklabels() should only be used with a fixed number of ticks, i.e. after set_ticks() or using a FixedLocator.\n",
      "  ax1.set_xticklabels(['Thursday', 'Friday', 'Saturday', 'Sunday'], size =12)\n"
     ]
    },
    {
     "data": {
      "image/png": "[encoded data removed]",
      "text/plain": [
       "<Figure size 1600x500 with 2 Axes>"
      ]
     },
     "metadata": {},
     "output_type": "display_data"
    }
   ],
   "source": [
    "fig, ax = plt.subplots(nrows = 1, ncols = 2, figsize = (16,5))\n",
    "ax0 = sns.barplot(x = 'day', y = 'total_bill', data = tips,\n",
    "                  errorbar= None, color = 'lightgray', alpha = 0.85, zorder = 2,\n",
    "                  ax = ax[0])\n",
    "for p in ax0.patches:\n",
    "    #print(p, type(p))\n",
    "    fortweight = 'normal'\n",
    "    color = 'k'\n",
    "    height = np.round(p.get_height(), 2)\n",
    "    #print(height)\n",
    "    if h_mean == height:\n",
    "        # Sun이면 색상을 다르게 주겠다\n",
    "        fontweight = 'bold'\n",
    "        color = 'darkred'\n",
    "        p.set_facecolor(color)\n",
    "        p.set_edgecolor('black')\n",
    "    else:\n",
    "        p.set_facecolor('green')\n",
    "    ax0.text(p.get_x() + p.get_width()/2., height+2, height, ha = 'center',\n",
    "        size=12, fontweight=fontweight, color=color)\n",
    "        \n",
    "ax0.set_ylim(-3, 30)\n",
    "ax0.set_title(\"Ideal Bar Graph\", size = 16)\n",
    "\n",
    "ax0.spines['top'].set_visible(False)\n",
    "ax0.spines['left'].set_position((\"outward\", 20))\n",
    "ax0.spines['left'].set_visible(False)\n",
    "ax0.spines['right'].set_visible(False)\n",
    "\n",
    "ax0.yaxis.set_major_locator(MultipleLocator(10))\n",
    "ax0.yaxis.set_major_formatter(formatter)\n",
    "ax0.yaxis.set_minor_locator(MultipleLocator(5))\n",
    "\n",
    "ax0.set_ylabel(\"Avg. Total Bill($)\", fontsize=14)\n",
    "\n",
    "ax0.grid(axis=\"y\", which=\"major\", color=\"lightgray\")\n",
    "ax0.grid(axis=\"y\", which=\"minor\", ls=\":\")\n",
    "\n",
    "ax0.set_xlabel(\"Weekday\", fontsize=14)\n",
    "\n",
    "for xtick in ax0.get_xticklabels():  # 밑에 글자 색상 변경하기 위함\n",
    "  print(xtick)\n",
    "  if xtick.get_text() == h_day:\n",
    "    xtick.set_color(\"darkred\")\n",
    "    xtick.set_fontweight(\"demibold\")\n",
    "ax0.set_xticklabels(['Thursday', 'Friday', 'Saturday', 'Sunday'], size=12) # 밑에 축에 글씨 변경\n",
    "    \n",
    "\n",
    "\n",
    "\n",
    "\n",
    "\n",
    "ax1 = sns.barplot(x = 'day', y = 'total_bill', data = tips,\n",
    "                    errorbar = None, alpha = 0.85, ax = ax[1])\n",
    "\n",
    "ax1.set_xticklabels(['Thursday', 'Friday', 'Saturday', 'Sunday'], size =12)\n",
    "\n",
    "for p in ax1.patches:\n",
    "    height= np.round(p.get_height(), 2)\n",
    "    ax1.text(p.get_x() + p.get_width()/2., height+2, height, ha = 'center',\n",
    "        size=12, fontweight=fontweight, color=color)\n",
    "ax1.set_ylim(-3,30)\n",
    "ax1.set_title(\"Just Bar Graph\")\n",
    "plt.show()"
   ]
  },
  {
   "cell_type": "code",
   "execution_count": null,
   "id": "4eb47600-807b-405d-a076-85e02e9e8d84",
   "metadata": {},
   "outputs": [],
   "source": []
  }
 ],
 "metadata": {
  "kernelspec": {
   "display_name": "Python 3 (ipykernel)",
   "language": "python",
   "name": "python3"
  },
  "language_info": {
   "codemirror_mode": {
    "name": "ipython",
    "version": 3
   },
   "file_extension": ".py",
   "mimetype": "text/x-python",
   "name": "python",
   "nbconvert_exporter": "python",
   "pygments_lexer": "ipython3",
   "version": "3.11.7"
  }
 },
 "nbformat": 4,
 "nbformat_minor": 5
}
